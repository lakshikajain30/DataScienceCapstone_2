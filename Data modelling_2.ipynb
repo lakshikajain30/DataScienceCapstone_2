{
 "cells": [
  {
   "cell_type": "code",
   "execution_count": 25,
   "id": "65db0d2c-0a79-4182-91b1-b03dbb89441f",
   "metadata": {},
   "outputs": [],
   "source": [
    "import pandas as pd\n",
    "import matplotlib.pyplot as plt\n",
    "import seaborn as sns\n",
    "import os\n",
    "import xgboost as xgb\n",
    "from sklearn import preprocessing\n",
    "from sklearn.model_selection import train_test_split\n",
    "from sklearn.preprocessing import LabelEncoder\n",
    "from collections import Counter\n",
    "from itertools import combinations\n",
    "from scipy import stats\n",
    "import numpy as np\n",
    "from sklearn.model_selection import train_test_split\n",
    "from sklearn.neural_network import MLPClassifier\n",
    "from sklearn.tree import DecisionTreeClassifier\n",
    "from sklearn.ensemble import RandomForestClassifier\n",
    "import math"
   ]
  },
  {
   "cell_type": "code",
   "execution_count": 6,
   "id": "3375c817-3139-49f4-aa99-36fcb270ccac",
   "metadata": {},
   "outputs": [],
   "source": [
    "#import test and train datasets"
   ]
  },
  {
   "cell_type": "code",
   "execution_count": 26,
   "id": "1a5dbd9f-1254-4273-b2a6-4ce1777906a9",
   "metadata": {},
   "outputs": [],
   "source": [
    "df_train = pd.read_csv('/Users/lakshikajain/Documents/GitHub/DataScienceCapstone_2/output.csv')\n",
    "df_test = pd.read_csv('/Users/lakshikajain/Documents/GitHub/DataScienceCapstone_2/Testing.csv')"
   ]
  },
  {
   "cell_type": "code",
   "execution_count": 8,
   "id": "0ef7156e-6f23-4e5c-bc62-50dd5af779cc",
   "metadata": {},
   "outputs": [],
   "source": [
    "#dropped Fluid_overload as all rows for this field is 0"
   ]
  },
  {
   "cell_type": "code",
   "execution_count": 27,
   "id": "2b15d2b9-3170-4c50-a2d1-81af6b52e698",
   "metadata": {},
   "outputs": [],
   "source": [
    "df_train.drop('fluid_overload', axis = 1, inplace = True)"
   ]
  },
  {
   "cell_type": "code",
   "execution_count": 28,
   "id": "05c76ffa-e913-4b40-8e1a-486b15038c2d",
   "metadata": {},
   "outputs": [],
   "source": [
    "df_train_2 = df_train.loc[:, df_train.columns != \"prognosis\"]"
   ]
  },
  {
   "cell_type": "code",
   "execution_count": 29,
   "id": "64771975-f66f-46f3-a523-ee9ad86d51e1",
   "metadata": {},
   "outputs": [],
   "source": [
    "df_train_2 = df_train_2.apply(pd.to_numeric, errors = 'coerce')"
   ]
  },
  {
   "cell_type": "code",
   "execution_count": 30,
   "id": "373695f7-e82e-49d2-837f-d7ab20b9e108",
   "metadata": {},
   "outputs": [],
   "source": [
    "df_train = pd.concat([df_train_2,df_train['prognosis']], axis=1, join='inner')"
   ]
  },
  {
   "cell_type": "code",
   "execution_count": 31,
   "id": "6722a88d-2434-4d93-bc3d-212be2615fb4",
   "metadata": {},
   "outputs": [],
   "source": [
    "# Fit the model"
   ]
  },
  {
   "cell_type": "code",
   "execution_count": 32,
   "id": "dd92f395-ba07-4caf-a6c4-c471be9f067a",
   "metadata": {},
   "outputs": [
    {
     "data": {
      "text/plain": [
       "array([[ 2.50132708,  2.29336913,  6.6749948 , -0.2173802 , -0.14981285,\n",
       "        -0.43999471, -0.40183714, -0.2173802 , -0.2173802 , -0.14981285,\n",
       "        -0.14981285, -0.79795147, -0.21428571, -0.14981285, -0.80410593,\n",
       "        -0.15401412, -0.15401412, -0.15401412, -0.22043899, -0.31960998,\n",
       "        -0.22043899, -0.31960998, -0.14981285, -0.15401412, -0.35982855,\n",
       "        -0.61870779, -0.14981285, -0.31728716, -0.39978778, -0.14981285,\n",
       "        -0.2173802 , -0.54728837, -0.47701668, -0.36198685, -0.55105045,\n",
       "        -0.55293081, -0.15811388, -0.22043899, -0.22043899, -0.51520103,\n",
       "        -0.35982855, -0.27844132, -0.15401412, -0.44590404, -0.15401412,\n",
       "        -0.15401412, -0.27589035, -0.40795783, -0.27332236, -0.27844132,\n",
       "        -0.15811388, -0.15811388, -0.15811388, -0.15811388, -0.15811388,\n",
       "        -0.40592207, -0.14981285, -0.2234636 , -0.15401412, -0.15401412,\n",
       "        -0.15401412, -0.15401412, -0.22043899, -0.27073683, -0.15401412,\n",
       "        -0.15401412, -0.22043899, -0.15401412, -0.14981285, -0.15401412,\n",
       "        -0.15811388, -0.15811388, -0.15811388, -0.32192222, -0.14981285,\n",
       "        -0.15401412, -0.15811388, -0.15401412, -0.15401412, -0.2234636 ,\n",
       "        -0.22043899, -0.22043899, -0.15401412, -0.14981285, -0.27332236,\n",
       "        -0.15401412, -0.14981285, -0.15811388, -0.15401412, -0.14550124,\n",
       "        -0.15401412, -0.15401412, -0.15401412, -0.15401412, -0.2234636 ,\n",
       "        -0.32651598, -0.32651598, -0.15401412, -0.2234636 , -0.15401412,\n",
       "        -0.22645541,  6.6749948 , -0.14981285, -0.15811388, -0.15811388,\n",
       "        -0.22043899, -0.15401412, -0.15811388, -0.15401412, -0.15401412,\n",
       "        -0.15811388, -0.15811388, -0.15811388, -0.15811388, -0.15401412,\n",
       "        -0.15401412, -0.15401412, -0.15811388, -0.15401412, -0.15811388,\n",
       "        -0.22043899, -0.14981285, -0.14981285, -0.14981285, -0.15401412,\n",
       "        -0.15401412, -0.15401412, -0.15401412, -0.15401412, -0.15401412,\n",
       "        -0.15401412],\n",
       "       [-0.39978778,  2.29336913,  6.6749948 , -0.2173802 , -0.14981285,\n",
       "        -0.43999471, -0.40183714, -0.2173802 , -0.2173802 , -0.14981285,\n",
       "        -0.14981285, -0.79795147, -0.21428571, -0.14981285, -0.80410593,\n",
       "        -0.15401412, -0.15401412, -0.15401412, -0.22043899, -0.31960998,\n",
       "        -0.22043899, -0.31960998, -0.14981285, -0.15401412, -0.35982855,\n",
       "        -0.61870779, -0.14981285, -0.31728716, -0.39978778, -0.14981285,\n",
       "        -0.2173802 , -0.54728837, -0.47701668, -0.36198685, -0.55105045,\n",
       "        -0.55293081, -0.15811388, -0.22043899, -0.22043899, -0.51520103,\n",
       "        -0.35982855, -0.27844132, -0.15401412, -0.44590404, -0.15401412,\n",
       "        -0.15401412, -0.27589035, -0.40795783, -0.27332236, -0.27844132,\n",
       "        -0.15811388, -0.15811388, -0.15811388, -0.15811388, -0.15811388,\n",
       "        -0.40592207, -0.14981285, -0.2234636 , -0.15401412, -0.15401412,\n",
       "        -0.15401412, -0.15401412, -0.22043899, -0.27073683, -0.15401412,\n",
       "        -0.15401412, -0.22043899, -0.15401412, -0.14981285, -0.15401412,\n",
       "        -0.15811388, -0.15811388, -0.15811388, -0.32192222, -0.14981285,\n",
       "        -0.15401412, -0.15811388, -0.15401412, -0.15401412, -0.2234636 ,\n",
       "        -0.22043899, -0.22043899, -0.15401412, -0.14981285, -0.27332236,\n",
       "        -0.15401412, -0.14981285, -0.15811388, -0.15401412, -0.14550124,\n",
       "        -0.15401412, -0.15401412, -0.15401412, -0.15401412, -0.2234636 ,\n",
       "        -0.32651598, -0.32651598, -0.15401412, -0.2234636 , -0.15401412,\n",
       "        -0.22645541,  6.6749948 , -0.14981285, -0.15811388, -0.15811388,\n",
       "        -0.22043899, -0.15401412, -0.15811388, -0.15401412, -0.15401412,\n",
       "        -0.15811388, -0.15811388, -0.15811388, -0.15811388, -0.15401412,\n",
       "        -0.15401412, -0.15401412, -0.15811388, -0.15401412, -0.15811388,\n",
       "        -0.22043899, -0.14981285, -0.14981285, -0.14981285, -0.15401412,\n",
       "        -0.15401412, -0.15401412, -0.15401412, -0.15401412, -0.15401412,\n",
       "        -0.15401412],\n",
       "       [ 2.50132708, -0.4360397 ,  6.6749948 , -0.2173802 , -0.14981285,\n",
       "        -0.43999471, -0.40183714, -0.2173802 , -0.2173802 , -0.14981285,\n",
       "        -0.14981285, -0.79795147, -0.21428571, -0.14981285, -0.80410593,\n",
       "        -0.15401412, -0.15401412, -0.15401412, -0.22043899, -0.31960998,\n",
       "        -0.22043899, -0.31960998, -0.14981285, -0.15401412, -0.35982855,\n",
       "        -0.61870779, -0.14981285, -0.31728716, -0.39978778, -0.14981285,\n",
       "        -0.2173802 , -0.54728837, -0.47701668, -0.36198685, -0.55105045,\n",
       "        -0.55293081, -0.15811388, -0.22043899, -0.22043899, -0.51520103,\n",
       "        -0.35982855, -0.27844132, -0.15401412, -0.44590404, -0.15401412,\n",
       "        -0.15401412, -0.27589035, -0.40795783, -0.27332236, -0.27844132,\n",
       "        -0.15811388, -0.15811388, -0.15811388, -0.15811388, -0.15811388,\n",
       "        -0.40592207, -0.14981285, -0.2234636 , -0.15401412, -0.15401412,\n",
       "        -0.15401412, -0.15401412, -0.22043899, -0.27073683, -0.15401412,\n",
       "        -0.15401412, -0.22043899, -0.15401412, -0.14981285, -0.15401412,\n",
       "        -0.15811388, -0.15811388, -0.15811388, -0.32192222, -0.14981285,\n",
       "        -0.15401412, -0.15811388, -0.15401412, -0.15401412, -0.2234636 ,\n",
       "        -0.22043899, -0.22043899, -0.15401412, -0.14981285, -0.27332236,\n",
       "        -0.15401412, -0.14981285, -0.15811388, -0.15401412, -0.14550124,\n",
       "        -0.15401412, -0.15401412, -0.15401412, -0.15401412, -0.2234636 ,\n",
       "        -0.32651598, -0.32651598, -0.15401412, -0.2234636 , -0.15401412,\n",
       "        -0.22645541,  6.6749948 , -0.14981285, -0.15811388, -0.15811388,\n",
       "        -0.22043899, -0.15401412, -0.15811388, -0.15401412, -0.15401412,\n",
       "        -0.15811388, -0.15811388, -0.15811388, -0.15811388, -0.15401412,\n",
       "        -0.15401412, -0.15401412, -0.15811388, -0.15401412, -0.15811388,\n",
       "        -0.22043899, -0.14981285, -0.14981285, -0.14981285, -0.15401412,\n",
       "        -0.15401412, -0.15401412, -0.15401412, -0.15401412, -0.15401412,\n",
       "        -0.15401412],\n",
       "       [ 2.50132708,  2.29336913, -0.14981285, -0.2173802 , -0.14981285,\n",
       "        -0.43999471, -0.40183714, -0.2173802 , -0.2173802 , -0.14981285,\n",
       "        -0.14981285, -0.79795147, -0.21428571, -0.14981285, -0.80410593,\n",
       "        -0.15401412, -0.15401412, -0.15401412, -0.22043899, -0.31960998,\n",
       "        -0.22043899, -0.31960998, -0.14981285, -0.15401412, -0.35982855,\n",
       "        -0.61870779, -0.14981285, -0.31728716, -0.39978778, -0.14981285,\n",
       "        -0.2173802 , -0.54728837, -0.47701668, -0.36198685, -0.55105045,\n",
       "        -0.55293081, -0.15811388, -0.22043899, -0.22043899, -0.51520103,\n",
       "        -0.35982855, -0.27844132, -0.15401412, -0.44590404, -0.15401412,\n",
       "        -0.15401412, -0.27589035, -0.40795783, -0.27332236, -0.27844132,\n",
       "        -0.15811388, -0.15811388, -0.15811388, -0.15811388, -0.15811388,\n",
       "        -0.40592207, -0.14981285, -0.2234636 , -0.15401412, -0.15401412,\n",
       "        -0.15401412, -0.15401412, -0.22043899, -0.27073683, -0.15401412,\n",
       "        -0.15401412, -0.22043899, -0.15401412, -0.14981285, -0.15401412,\n",
       "        -0.15811388, -0.15811388, -0.15811388, -0.32192222, -0.14981285,\n",
       "        -0.15401412, -0.15811388, -0.15401412, -0.15401412, -0.2234636 ,\n",
       "        -0.22043899, -0.22043899, -0.15401412, -0.14981285, -0.27332236,\n",
       "        -0.15401412, -0.14981285, -0.15811388, -0.15401412, -0.14550124,\n",
       "        -0.15401412, -0.15401412, -0.15401412, -0.15401412, -0.2234636 ,\n",
       "        -0.32651598, -0.32651598, -0.15401412, -0.2234636 , -0.15401412,\n",
       "        -0.22645541,  6.6749948 , -0.14981285, -0.15811388, -0.15811388,\n",
       "        -0.22043899, -0.15401412, -0.15811388, -0.15401412, -0.15401412,\n",
       "        -0.15811388, -0.15811388, -0.15811388, -0.15811388, -0.15401412,\n",
       "        -0.15401412, -0.15401412, -0.15811388, -0.15401412, -0.15811388,\n",
       "        -0.22043899, -0.14981285, -0.14981285, -0.14981285, -0.15401412,\n",
       "        -0.15401412, -0.15401412, -0.15401412, -0.15401412, -0.15401412,\n",
       "        -0.15401412],\n",
       "       [ 2.50132708,  2.29336913,  6.6749948 , -0.2173802 , -0.14981285,\n",
       "        -0.43999471, -0.40183714, -0.2173802 , -0.2173802 , -0.14981285,\n",
       "        -0.14981285, -0.79795147, -0.21428571, -0.14981285, -0.80410593,\n",
       "        -0.15401412, -0.15401412, -0.15401412, -0.22043899, -0.31960998,\n",
       "        -0.22043899, -0.31960998, -0.14981285, -0.15401412, -0.35982855,\n",
       "        -0.61870779, -0.14981285, -0.31728716, -0.39978778, -0.14981285,\n",
       "        -0.2173802 , -0.54728837, -0.47701668, -0.36198685, -0.55105045,\n",
       "        -0.55293081, -0.15811388, -0.22043899, -0.22043899, -0.51520103,\n",
       "        -0.35982855, -0.27844132, -0.15401412, -0.44590404, -0.15401412,\n",
       "        -0.15401412, -0.27589035, -0.40795783, -0.27332236, -0.27844132,\n",
       "        -0.15811388, -0.15811388, -0.15811388, -0.15811388, -0.15811388,\n",
       "        -0.40592207, -0.14981285, -0.2234636 , -0.15401412, -0.15401412,\n",
       "        -0.15401412, -0.15401412, -0.22043899, -0.27073683, -0.15401412,\n",
       "        -0.15401412, -0.22043899, -0.15401412, -0.14981285, -0.15401412,\n",
       "        -0.15811388, -0.15811388, -0.15811388, -0.32192222, -0.14981285,\n",
       "        -0.15401412, -0.15811388, -0.15401412, -0.15401412, -0.2234636 ,\n",
       "        -0.22043899, -0.22043899, -0.15401412, -0.14981285, -0.27332236,\n",
       "        -0.15401412, -0.14981285, -0.15811388, -0.15401412, -0.14550124,\n",
       "        -0.15401412, -0.15401412, -0.15401412, -0.15401412, -0.2234636 ,\n",
       "        -0.32651598, -0.32651598, -0.15401412, -0.2234636 , -0.15401412,\n",
       "        -0.22645541, -0.14981285, -0.14981285, -0.15811388, -0.15811388,\n",
       "        -0.22043899, -0.15401412, -0.15811388, -0.15401412, -0.15401412,\n",
       "        -0.15811388, -0.15811388, -0.15811388, -0.15811388, -0.15401412,\n",
       "        -0.15401412, -0.15401412, -0.15811388, -0.15401412, -0.15811388,\n",
       "        -0.22043899, -0.14981285, -0.14981285, -0.14981285, -0.15401412,\n",
       "        -0.15401412, -0.15401412, -0.15401412, -0.15401412, -0.15401412,\n",
       "        -0.15401412]])"
      ]
     },
     "execution_count": 32,
     "metadata": {},
     "output_type": "execute_result"
    }
   ],
   "source": [
    "X = df_train.drop('prognosis', axis = 1)\n",
    "y = df_train['prognosis'].values\n",
    "X = preprocessing.StandardScaler().fit(X).transform(X)\n",
    "X[0:5]"
   ]
  },
  {
   "cell_type": "code",
   "execution_count": 33,
   "id": "80aa6e04-eb1c-48b0-afae-2cf2e2a5e9f2",
   "metadata": {},
   "outputs": [
    {
     "name": "stdout",
     "output_type": "stream",
     "text": [
      "(4870, 131) (4870,)\n",
      "(50, 131) (50,)\n"
     ]
    }
   ],
   "source": [
    "X_train, X_test, y_train, y_test = train_test_split(X, y, test_size = 0.01, random_state = 0)\n",
    "\n",
    "print(X_train.shape, y_train.shape)\n",
    "print(X_test.shape, y_test.shape)"
   ]
  },
  {
   "cell_type": "code",
   "execution_count": 34,
   "id": "cb6ae140-bd6a-4bd6-b5c8-c5f33be3ca58",
   "metadata": {},
   "outputs": [
    {
     "name": "stderr",
     "output_type": "stream",
     "text": [
      "/opt/anaconda3/lib/python3.11/site-packages/xgboost/core.py:158: UserWarning: [20:32:27] WARNING: /Users/runner/work/xgboost/xgboost/src/learner.cc:740: \n",
      "Parameters: { \"use_label_encoder\" } are not used.\n",
      "\n",
      "  warnings.warn(smsg, UserWarning)\n"
     ]
    },
    {
     "data": {
      "text/plain": [
       "{'RandomForest': 1.0, 'DecisionTree': 1.0, 'MLP': 1.0, 'XGBoost': 1.0}"
      ]
     },
     "execution_count": 34,
     "metadata": {},
     "output_type": "execute_result"
    }
   ],
   "source": [
    "from sklearn.model_selection import train_test_split\n",
    "from sklearn.preprocessing import LabelEncoder\n",
    "from sklearn.neighbors import KNeighborsClassifier\n",
    "from sklearn.metrics import classification_report, accuracy_score\n",
    "\n",
    "# Separate features and target\n",
    "X = df_train.drop(columns=['prognosis'])\n",
    "y = df_train['prognosis']\n",
    "\n",
    "# Encode the target variable if it's categorical\n",
    "le = LabelEncoder()\n",
    "y_encoded = le.fit_transform(y)\n",
    "\n",
    "X_train, X_test, y_train, y_test = train_test_split(X, y_encoded, test_size=0.2, random_state=42)\n",
    "\n",
    "# Initialize models\n",
    "models = {\n",
    "    'RandomForest': RandomForestClassifier(random_state=42),\n",
    "    'DecisionTree': DecisionTreeClassifier(random_state=42),\n",
    "    'MLP': MLPClassifier(max_iter=300, random_state=42),\n",
    "    'XGBoost': xgb.XGBClassifier(use_label_encoder=False, eval_metric='mlogloss', random_state=42)\n",
    "}\n",
    "\n",
    "# Dictionary to store the AUC scores\n",
    "model_results = {}\n",
    "\n",
    "# Train and evaluate each model\n",
    "for model_name, model in models.items():\n",
    "    # Train the model\n",
    "    model.fit(X_train, y_train)\n",
    "    \n",
    "    # Predict probabilities for the test set\n",
    "    y_prob = model.predict_proba(X_test)\n",
    "    \n",
    "    # Calculate AUC score for the multi-class problem using 'ovr' (One-vs-Rest)\n",
    "    auc_score = roc_auc_score(y_test, y_prob, multi_class='ovr')\n",
    "    \n",
    "    # Store the result\n",
    "    model_results[model_name] = auc_score\n",
    "\n",
    "# Summarize the results\n",
    "model_results\n",
    "\n"
   ]
  },
  {
   "cell_type": "code",
   "execution_count": 36,
   "id": "aef3898c-582f-4210-a31f-c2653e97a330",
   "metadata": {},
   "outputs": [],
   "source": [
    "df_test.drop('fluid_overload', axis = 1, inplace = True)"
   ]
  },
  {
   "cell_type": "code",
   "execution_count": 38,
   "id": "496bfff2-380a-424a-b2b2-fe4e3484cbe7",
   "metadata": {},
   "outputs": [
    {
     "name": "stderr",
     "output_type": "stream",
     "text": [
      "/opt/anaconda3/lib/python3.11/site-packages/xgboost/core.py:158: UserWarning: [20:40:56] WARNING: /Users/runner/work/xgboost/xgboost/src/learner.cc:740: \n",
      "Parameters: { \"use_label_encoder\" } are not used.\n",
      "\n",
      "  warnings.warn(smsg, UserWarning)\n"
     ]
    },
    {
     "data": {
      "text/plain": [
       "{'RandomForest': 1.0, 'DecisionTree': 0.9936049970255799, 'XGBoost': 1.0}"
      ]
     },
     "execution_count": 38,
     "metadata": {},
     "output_type": "execute_result"
    }
   ],
   "source": [
    "# Redefine the align_predictions function\n",
    "def align_predictions(y_prob, num_classes=41):\n",
    "    if y_prob.shape[1] < num_classes:\n",
    "        # Create an array of zeros for missing class probabilities\n",
    "        missing_classes = num_classes - y_prob.shape[1]\n",
    "        y_prob_aligned = np.hstack((y_prob, np.zeros((y_prob.shape[0], missing_classes))))\n",
    "        return y_prob_aligned\n",
    "    return y_prob\n",
    "\n",
    "# Retry with previously defined models except MLP\n",
    "models_retrain = {\n",
    "    'RandomForest': RandomForestClassifier(random_state=42),\n",
    "    'DecisionTree': DecisionTreeClassifier(random_state=42),\n",
    "    'XGBoost': xgb.XGBClassifier(use_label_encoder=False, eval_metric='mlogloss', random_state=42)\n",
    "}\n",
    "\n",
    "# Re-train the models\n",
    "for model_name, model in models_retrain.items():\n",
    "    model.fit(X_train, y_train)\n",
    "\n",
    "# Re-evaluate the models on the new test dataset\n",
    "test_results = {}\n",
    "\n",
    "for model_name, model in models_retrain.items():\n",
    "    # Predict probabilities for the test set\n",
    "    y_prob = model.predict_proba(X_test_new)\n",
    "    \n",
    "    # Align probabilities with all 41 classes\n",
    "    y_prob_aligned = align_predictions(y_prob)\n",
    "    \n",
    "    # Calculate AUC score for the multi-class problem\n",
    "    auc_score = roc_auc_score(y_test_new_encoded, y_prob_aligned, multi_class='ovr')\n",
    "    \n",
    "    # Store the result\n",
    "    test_results[model_name] = auc_score\n",
    "\n",
    "# Display the test results\n",
    "test_results\n"
   ]
  },
  {
   "cell_type": "code",
   "execution_count": null,
   "id": "9717e9c4-a746-4b95-9781-7f895ccbedd5",
   "metadata": {},
   "outputs": [],
   "source": []
  }
 ],
 "metadata": {
  "kernelspec": {
   "display_name": "Python 3 (ipykernel)",
   "language": "python",
   "name": "python3"
  },
  "language_info": {
   "codemirror_mode": {
    "name": "ipython",
    "version": 3
   },
   "file_extension": ".py",
   "mimetype": "text/x-python",
   "name": "python",
   "nbconvert_exporter": "python",
   "pygments_lexer": "ipython3",
   "version": "3.11.7"
  }
 },
 "nbformat": 4,
 "nbformat_minor": 5
}
